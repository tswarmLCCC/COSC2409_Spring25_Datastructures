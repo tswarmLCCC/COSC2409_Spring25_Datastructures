{
 "cells": [
  {
   "cell_type": "markdown",
   "metadata": {},
   "source": [
    "# Introduction to Tuples in Python\n",
    "\n",
    "Tuples are a fundamental data structure in Python that allow you to store a collection of items in a single, ordered, and immutable container. Unlike lists, which are mutable and can be modified after creation, tuples are immutable, meaning their contents cannot be changed once they are created. This immutability makes tuples particularly useful in scenarios where you want to ensure that the data remains constant and unchanged throughout the program.\n",
    "\n",
    "## Characteristics of Tuples\n",
    "\n",
    "1. **Ordered**: The elements in a tuple have a defined order, and this order will not change.\n",
    "2. **Immutable**: Once a tuple is created, its elements cannot be modified, added, or removed.\n",
    "3. **Heterogeneous**: Tuples can contain elements of different data types, including integers, floats, strings, and even other tuples.\n",
    "4. **Indexed**: Elements in a tuple can be accessed using their index, starting from 0 for the first element.\n",
    "\n",
    "## Common Uses of Tuples\n",
    "\n",
    "1. **Data Integrity**: Since tuples are immutable, they are often used to store data that should not be changed throughout the program. This ensures data integrity and prevents accidental modifications.\n",
    "2. **Dictionary Keys**: Tuples can be used as keys in dictionaries because they are immutable. This is useful when you need to create composite keys, such as using a combination of latitude and longitude to represent a geographical location.\n",
    "3. **Returning Multiple Values**: Functions in Python can return multiple values using tuples. This allows you to return a set of related values from a function in a single, organized structure.\n",
    "4. **Grouping Data**: Tuples are useful for grouping related pieces of data together. For example, you can use a tuple to store the coordinates of a point (x, y) or the RGB values of a color.\n",
    "\n",
    "In this notebook, we will explore various aspects of tuples, including how to create them, access their elements, and use them in different scenarios. We will also demonstrate tuple immutability, concatenation, unpacking, and more."
   ]
  },
  {
   "cell_type": "markdown",
   "metadata": {},
   "source": [
    "# Creating Tuples\n",
    "Demonstrate how to create tuples in Python."
   ]
  },
  {
   "cell_type": "code",
   "execution_count": 18,
   "metadata": {},
   "outputs": [
    {
     "data": {
      "text/plain": [
       "()"
      ]
     },
     "execution_count": 18,
     "metadata": {},
     "output_type": "execute_result"
    }
   ],
   "source": [
    "# Creating Tuples\n",
    "\n",
    "# Creating an empty tuple\n",
    "empty_tuple = ()\n",
    "empty_tuple\n"
   ]
  },
  {
   "cell_type": "code",
   "execution_count": 21,
   "metadata": {},
   "outputs": [
    {
     "data": {
      "text/plain": [
       "(1,)"
      ]
     },
     "execution_count": 21,
     "metadata": {},
     "output_type": "execute_result"
    }
   ],
   "source": [
    "# Creating a tuple with one element\n",
    "single_element_tuple = (1,)\n",
    "single_element_tuple"
   ]
  },
  {
   "cell_type": "code",
   "execution_count": 22,
   "metadata": {},
   "outputs": [
    {
     "data": {
      "text/plain": [
       "(1, 2, 3, 4, 5)"
      ]
     },
     "execution_count": 22,
     "metadata": {},
     "output_type": "execute_result"
    }
   ],
   "source": [
    "# Creating a tuple with multiple elements\n",
    "multiple_elements_tuple = (1, 2, 3, 4, 5)\n",
    "multiple_elements_tuple\n"
   ]
  },
  {
   "cell_type": "code",
   "execution_count": null,
   "metadata": {},
   "outputs": [
    {
     "data": {
      "text/plain": [
       "(1, 2, 3, 4, 5)"
      ]
     },
     "execution_count": 25,
     "metadata": {},
     "output_type": "execute_result"
    }
   ],
   "source": [
    "# Creating a tuple without parentheses\n",
    "no_parentheses_tuple = (1, 2, 3, 4, 5)\n",
    "no_parentheses_tuple\n"
   ]
  },
  {
   "cell_type": "code",
   "execution_count": 26,
   "metadata": {},
   "outputs": [
    {
     "data": {
      "text/plain": [
       "(1, 2, 3, 4, 5)"
      ]
     },
     "execution_count": 26,
     "metadata": {},
     "output_type": "execute_result"
    }
   ],
   "source": [
    "# Creating a tuple from a list\n",
    "list_to_tuple = tuple([1, 2, 3, 4, 5])\n",
    "list_to_tuple"
   ]
  },
  {
   "cell_type": "code",
   "execution_count": 27,
   "metadata": {},
   "outputs": [
    {
     "data": {
      "text/plain": [
       "('h', 'e', 'l', 'l', 'o')"
      ]
     },
     "execution_count": 27,
     "metadata": {},
     "output_type": "execute_result"
    }
   ],
   "source": [
    "# Creating a tuple from a string\n",
    "string_to_tuple = tuple(\"hello\")\n",
    "string_to_tuple"
   ]
  },
  {
   "cell_type": "markdown",
   "metadata": {},
   "source": [
    "# Accessing Tuple Elements\n",
    "Show how to access elements within a tuple using indexing."
   ]
  },
  {
   "cell_type": "code",
   "execution_count": 29,
   "metadata": {},
   "outputs": [
    {
     "data": {
      "text/plain": [
       "3"
      ]
     },
     "execution_count": 29,
     "metadata": {},
     "output_type": "execute_result"
    }
   ],
   "source": [
    "# Accessing Tuple Elements\n",
    "multiple_elements_tuple = (1, 2, 3, 4, 5)\n",
    "\n",
    "# Accessing the first element of the tuple\n",
    "first_element = multiple_elements_tuple[2]\n",
    "\n",
    "first_element\n"
   ]
  },
  {
   "cell_type": "code",
   "execution_count": 30,
   "metadata": {},
   "outputs": [
    {
     "data": {
      "text/plain": [
       "5"
      ]
     },
     "execution_count": 30,
     "metadata": {},
     "output_type": "execute_result"
    }
   ],
   "source": [
    "# Accessing the last element of the tuple\n",
    "last_element = multiple_elements_tuple[-1]\n",
    "last_element\n"
   ]
  },
  {
   "cell_type": "code",
   "execution_count": 31,
   "metadata": {},
   "outputs": [
    {
     "data": {
      "text/plain": [
       "(2, 3, 4)"
      ]
     },
     "execution_count": 31,
     "metadata": {},
     "output_type": "execute_result"
    }
   ],
   "source": [
    "\n",
    "# Accessing a range of elements (slicing)\n",
    "slice_of_tuple = multiple_elements_tuple[1:4]\n",
    "slice_of_tuple\n"
   ]
  },
  {
   "cell_type": "code",
   "execution_count": 33,
   "metadata": {},
   "outputs": [
    {
     "data": {
      "text/plain": [
       "3"
      ]
     },
     "execution_count": 33,
     "metadata": {},
     "output_type": "execute_result"
    }
   ],
   "source": [
    "# Accessing elements using negative indexing\n",
    "negative_index_element = multiple_elements_tuple[-3]\n",
    "negative_index_element"
   ]
  },
  {
   "cell_type": "markdown",
   "metadata": {},
   "source": [
    "# Tuple Immutability\n",
    "Explain and demonstrate the immutability of tuples."
   ]
  },
  {
   "cell_type": "code",
   "execution_count": 34,
   "metadata": {},
   "outputs": [
    {
     "ename": "TypeError",
     "evalue": "'tuple' object does not support item assignment",
     "output_type": "error",
     "traceback": [
      "\u001b[1;31m---------------------------------------------------------------------------\u001b[0m",
      "\u001b[1;31mTypeError\u001b[0m                                 Traceback (most recent call last)",
      "Cell \u001b[1;32mIn[34], line 3\u001b[0m\n\u001b[0;32m      1\u001b[0m myTuple \u001b[38;5;241m=\u001b[39m (\u001b[38;5;241m1\u001b[39m, \u001b[38;5;241m2\u001b[39m, \u001b[38;5;241m3\u001b[39m, \u001b[38;5;241m4\u001b[39m, \u001b[38;5;241m5\u001b[39m, \u001b[38;5;241m6\u001b[39m, \u001b[38;5;241m7\u001b[39m, \u001b[38;5;241m8\u001b[39m, \u001b[38;5;241m9\u001b[39m, \u001b[38;5;241m10\u001b[39m)\n\u001b[1;32m----> 3\u001b[0m \u001b[43mmyTuple\u001b[49m\u001b[43m[\u001b[49m\u001b[38;5;241;43m3\u001b[39;49m\u001b[43m]\u001b[49m \u001b[38;5;241m=\u001b[39m \u001b[38;5;241m11\u001b[39m\n",
      "\u001b[1;31mTypeError\u001b[0m: 'tuple' object does not support item assignment"
     ]
    }
   ],
   "source": [
    "myTuple = (1, 2, 3, 4, 5, 6, 7, 8, 9, 10)\n",
    "\n",
    "myTuple[3] = 11"
   ]
  },
  {
   "cell_type": "code",
   "execution_count": null,
   "metadata": {},
   "outputs": [
    {
     "data": {
      "text/plain": [
       "([10, 2, 3], 4, 5)"
      ]
     },
     "execution_count": 35,
     "metadata": {},
     "output_type": "execute_result"
    }
   ],
   "source": [
    "# Tuple Immutability\n",
    "\n",
    "\n",
    "# Demonstrating that tuples can contain mutable objects\n",
    "mutable_inside_tuple = ([1, 2, 3], 4, 5)\n",
    "mutable_inside_tuple\n",
    "\n",
    "# Modifying a mutable object inside a tuple\n",
    "mutable_inside_tuple[0][0] = 10\n",
    "mutable_inside_tuple"
   ]
  },
  {
   "cell_type": "code",
   "execution_count": 36,
   "metadata": {},
   "outputs": [
    {
     "data": {
      "text/plain": [
       "\"'tuple' object does not support item assignment\""
      ]
     },
     "execution_count": 36,
     "metadata": {},
     "output_type": "execute_result"
    }
   ],
   "source": [
    "# Attempting to change an element of a tuple (this will raise an error)\n",
    "try:\n",
    "    multiple_elements_tuple[0] = 10\n",
    "except TypeError as e:\n",
    "    immutability_error = str(e)\n",
    "immutability_error\n"
   ]
  },
  {
   "cell_type": "markdown",
   "metadata": {},
   "source": [
    "# Tuple Concatenation\n",
    "Show how to concatenate two or more tuples."
   ]
  },
  {
   "cell_type": "code",
   "execution_count": 37,
   "metadata": {},
   "outputs": [],
   "source": [
    "# Tuple Concatenation\n",
    "\n",
    "# Creating two tuples\n",
    "tuple1 = (1, 2, 3)\n",
    "tuple2 = (4, 5, 6)\n",
    "\n"
   ]
  },
  {
   "cell_type": "code",
   "execution_count": 38,
   "metadata": {},
   "outputs": [
    {
     "data": {
      "text/plain": [
       "(1, 2, 3, 4, 5, 6)"
      ]
     },
     "execution_count": 38,
     "metadata": {},
     "output_type": "execute_result"
    }
   ],
   "source": [
    "# Concatenating the tuples\n",
    "concatenated_tuple = tuple1 + tuple2\n",
    "concatenated_tuple\n"
   ]
  },
  {
   "cell_type": "code",
   "execution_count": 39,
   "metadata": {},
   "outputs": [
    {
     "data": {
      "text/plain": [
       "(1, 2, 3, 4, 5, 6, 7, 8, 9)"
      ]
     },
     "execution_count": 39,
     "metadata": {},
     "output_type": "execute_result"
    }
   ],
   "source": [
    "\n",
    "# Concatenating multiple tuples\n",
    "tuple3 = (7, 8, 9)\n",
    "concatenated_multiple_tuples = tuple1 + tuple2 + tuple3\n",
    "concatenated_multiple_tuples"
   ]
  },
  {
   "cell_type": "code",
   "execution_count": 40,
   "metadata": {},
   "outputs": [
    {
     "data": {
      "text/plain": [
       "(7, 8, 9, 7, 8, 9, 7, 8, 9, 7, 8, 9)"
      ]
     },
     "execution_count": 40,
     "metadata": {},
     "output_type": "execute_result"
    }
   ],
   "source": [
    "tuple3 = (7, 8, 9)\n",
    "tuple3 * 4"
   ]
  },
  {
   "cell_type": "markdown",
   "metadata": {},
   "source": [
    "# Tuple Unpacking\n",
    "Tuple unpacking is a powerful feature in Python that allows you to assign the elements of a tuple to multiple variables in a single statement. This can make your code more readable and concise.\n",
    "\n",
    "## Basic Unpacking\n",
    "You can unpack a tuple into individual variables by matching the number of variables to the number of elements in the tuple.\n",
    "\n",
    "Example:"
   ]
  },
  {
   "cell_type": "code",
   "execution_count": null,
   "metadata": {},
   "outputs": [
    {
     "name": "stdout",
     "output_type": "stream",
     "text": [
      "1\n",
      "2\n",
      "3\n"
     ]
    }
   ],
   "source": [
    "# Tuple Unpacking\n",
    "\n",
    "# Unpacking a tuple into individual variables\n",
    "a, b, c = (1, 2, 3)\n",
    "a, b, c\n",
    "print(a)\n",
    "print(b)\n",
    "print(c)\n",
    "\n"
   ]
  },
  {
   "cell_type": "code",
   "execution_count": 47,
   "metadata": {},
   "outputs": [
    {
     "name": "stdout",
     "output_type": "stream",
     "text": [
      "1\n"
     ]
    }
   ],
   "source": [
    "myVar = (1,2,3)[0]\n",
    "print(myVar)"
   ]
  },
  {
   "cell_type": "code",
   "execution_count": 48,
   "metadata": {},
   "outputs": [
    {
     "data": {
      "text/plain": [
       "(1, [2, 3, 4, 5])"
      ]
     },
     "execution_count": 48,
     "metadata": {},
     "output_type": "execute_result"
    }
   ],
   "source": [
    "# Unpacking a tuple with more elements than variables (using *)\n",
    "a, *b = (1, 2, 3, 4, 5)\n",
    "a, b"
   ]
  },
  {
   "cell_type": "code",
   "execution_count": 49,
   "metadata": {},
   "outputs": [
    {
     "data": {
      "text/plain": [
       "'not enough values to unpack (expected 4, got 3)'"
      ]
     },
     "execution_count": 49,
     "metadata": {},
     "output_type": "execute_result"
    }
   ],
   "source": [
    "# Unpacking a tuple with fewer elements than variables (this will raise an error)\n",
    "try:\n",
    "    a, b, c, d = (1, 2, 3)\n",
    "except ValueError as e:\n",
    "    unpacking_error = str(e)\n",
    "unpacking_error\n"
   ]
  },
  {
   "cell_type": "code",
   "execution_count": 50,
   "metadata": {},
   "outputs": [
    {
     "data": {
      "text/plain": [
       "(1, 2, 3)"
      ]
     },
     "execution_count": 50,
     "metadata": {},
     "output_type": "execute_result"
    }
   ],
   "source": [
    "# Unpacking nested tuples\n",
    "(a, b), c = ((1, 2), 3)\n",
    "a, b, c"
   ]
  },
  {
   "cell_type": "markdown",
   "metadata": {},
   "source": [
    "# Nested Tuples\n",
    "Show how to create and access elements in nested tuples."
   ]
  },
  {
   "cell_type": "code",
   "execution_count": 15,
   "metadata": {},
   "outputs": [
    {
     "data": {
      "text/plain": [
       "((1, 2, 3), (4, 5, 6), (7, 8, 9))"
      ]
     },
     "execution_count": 15,
     "metadata": {},
     "output_type": "execute_result"
    }
   ],
   "source": [
    "# Nested Tuples\n",
    "\n",
    "# Creating a nested tuple\n",
    "nested_tuple = ((1, 2, 3), (4, 5, 6), (7, 8, 9))\n",
    "nested_tuple\n"
   ]
  },
  {
   "cell_type": "code",
   "execution_count": 16,
   "metadata": {},
   "outputs": [
    {
     "data": {
      "text/plain": [
       "(1, 2, 3)"
      ]
     },
     "execution_count": 16,
     "metadata": {},
     "output_type": "execute_result"
    }
   ],
   "source": [
    "# Accessing elements in a nested tuple\n",
    "first_nested_element = nested_tuple[0]\n",
    "first_nested_element\n",
    "\n"
   ]
  },
  {
   "cell_type": "code",
   "execution_count": null,
   "metadata": {},
   "outputs": [],
   "source": [
    "# Accessing an element within the first nested tuple\n",
    "first_element_in_first_nested = nested_tuple[0][0]\n",
    "first_element_in_first_nested\n",
    "\n"
   ]
  },
  {
   "cell_type": "code",
   "execution_count": null,
   "metadata": {},
   "outputs": [],
   "source": [
    "# Accessing the last element of the last nested tuple\n",
    "last_element_in_last_nested = nested_tuple[-1][-1]\n",
    "last_element_in_last_nested"
   ]
  },
  {
   "cell_type": "markdown",
   "metadata": {},
   "source": [
    "# Tuple Methods\n",
    "Demonstrate common tuple methods like count() and index()."
   ]
  },
  {
   "cell_type": "code",
   "execution_count": 54,
   "metadata": {},
   "outputs": [
    {
     "data": {
      "text/plain": [
       "(1, 2, 3, 2, 14, 2, 5, 4)"
      ]
     },
     "execution_count": 54,
     "metadata": {},
     "output_type": "execute_result"
    }
   ],
   "source": [
    "# Tuple Methods\n",
    "\n",
    "# Creating a tuple for demonstration\n",
    "demo_tuple = (1, 2, 3, 2, 14, 2, 5, 4)\n",
    "demo_tuple\n"
   ]
  },
  {
   "cell_type": "code",
   "execution_count": 52,
   "metadata": {},
   "outputs": [
    {
     "data": {
      "text/plain": [
       "3"
      ]
     },
     "execution_count": 52,
     "metadata": {},
     "output_type": "execute_result"
    }
   ],
   "source": [
    "# Using the count() method to count occurrences of an element\n",
    "count_of_twos = demo_tuple.count(2)\n",
    "count_of_twos\n"
   ]
  },
  {
   "cell_type": "code",
   "execution_count": null,
   "metadata": {},
   "outputs": [
    {
     "data": {
      "text/plain": [
       "7"
      ]
     },
     "execution_count": 55,
     "metadata": {},
     "output_type": "execute_result"
    }
   ],
   "source": [
    "# Using the index() method to find the first occurrence of an element\n",
    "index_of_four = demo_tuple.index(4)\n",
    "index_of_four\n"
   ]
  },
  {
   "cell_type": "code",
   "execution_count": 57,
   "metadata": {},
   "outputs": [
    {
     "data": {
      "text/plain": [
       "4"
      ]
     },
     "execution_count": 57,
     "metadata": {},
     "output_type": "execute_result"
    }
   ],
   "source": [
    "demo_tuple[demo_tuple.index(4)]"
   ]
  },
  {
   "cell_type": "code",
   "execution_count": null,
   "metadata": {},
   "outputs": [],
   "source": [
    "# Attempting to use the index() method with an element not in the tuple (this will raise an error)\n",
    "try:\n",
    "    index_of_six = demo_tuple.index(6)\n",
    "except ValueError as e:\n",
    "    index_error = str(e)\n",
    "index_error"
   ]
  },
  {
   "cell_type": "markdown",
   "metadata": {},
   "source": [
    "# Using Tuples as Dictionary Keys\n",
    "Using tuples as dictionary keys can be very useful in certain scenarios. Here are a few reasons why you might want to do this:\n",
    "\n",
    "Immutability: Tuples are immutable, meaning their contents cannot be changed after creation. This makes them suitable for use as dictionary keys, which require immutable data types.\n",
    "\n",
    "Composite Keys: Tuples allow you to create composite keys, which can be useful when you need to map a combination of values to a single value. For example, if you are storing data about geographical locations, you might use a tuple of (latitude, longitude) as the key.\n",
    "\n",
    "Readability and Organization: Using tuples as keys can make your code more readable and organized, especially when dealing with complex data structures. It allows you to group related pieces of data together in a meaningful way.\n",
    "\n",
    "Here is an example to illustrate:\n",
    "\n",
    "In this example, the dictionary location_data uses tuples of (latitude, longitude) as keys to store city names. This allows for efficient and clear access to the data based on geographical coordinates."
   ]
  },
  {
   "cell_type": "code",
   "execution_count": null,
   "metadata": {},
   "outputs": [],
   "source": []
  },
  {
   "cell_type": "code",
   "execution_count": 58,
   "metadata": {},
   "outputs": [],
   "source": [
    "# Creating a dictionary with tuples as keys\n",
    "location_data = {\n",
    "    (40.7128, -74.0060): \"New York\",\n",
    "    (34.0522, -118.2437): \"Los Angeles\",\n",
    "    (41.8781, -87.6298): \"Chicago\"\n",
    "}\n"
   ]
  },
  {
   "cell_type": "code",
   "execution_count": 59,
   "metadata": {},
   "outputs": [
    {
     "data": {
      "text/plain": [
       "'New York'"
      ]
     },
     "execution_count": 59,
     "metadata": {},
     "output_type": "execute_result"
    }
   ],
   "source": [
    "location_data[(40.7128, -74.0060)]"
   ]
  },
  {
   "cell_type": "code",
   "execution_count": null,
   "metadata": {},
   "outputs": [],
   "source": [
    "person_data = {\n",
    "    (\"Trevor\", \"Swarm\"): \"Teacher\",\n",
    "    (\"Trevor\", \"Student\"): \"Student\"\n",
    "}\n"
   ]
  },
  {
   "cell_type": "code",
   "execution_count": 62,
   "metadata": {},
   "outputs": [
    {
     "data": {
      "text/plain": [
       "'Teacher'"
      ]
     },
     "execution_count": 62,
     "metadata": {},
     "output_type": "execute_result"
    }
   ],
   "source": [
    "value_b = person_data[ (\"Trevor\", \"Swarm\")]\n",
    "value_b\n"
   ]
  },
  {
   "cell_type": "code",
   "execution_count": 11,
   "metadata": {},
   "outputs": [
    {
     "data": {
      "text/plain": [
       "\"unhashable type: 'list'\""
      ]
     },
     "execution_count": 11,
     "metadata": {},
     "output_type": "execute_result"
    }
   ],
   "source": [
    "\n",
    "# Attempting to use a list as a dictionary key (this will raise an error)\n",
    "try:\n",
    "    list_key_dict = {\n",
    "        [1, 2]: \"a\"\n",
    "    }\n",
    "except TypeError as e:\n",
    "    list_key_error = str(e)\n",
    "list_key_error"
   ]
  },
  {
   "cell_type": "code",
   "execution_count": 17,
   "metadata": {},
   "outputs": [
    {
     "name": "stdout",
     "output_type": "stream",
     "text": [
      "The latitude is 40.7128 and the longitude is -74.006\n"
     ]
    }
   ],
   "source": [
    "#function that returns a tuble to illustrate returning more than one value from a function\n",
    "def get_location():\n",
    "    return 40.7128, -74.0060\n",
    "\n",
    "#usage\n",
    "latitude, longitude = get_location()\n",
    "print(f\"The latitude is {latitude} and the longitude is {longitude}\")\n"
   ]
  },
  {
   "cell_type": "code",
   "execution_count": null,
   "metadata": {},
   "outputs": [
    {
     "name": "stdout",
     "output_type": "stream",
     "text": [
      "The latitude is 40.7128 and the longitude is -74.006\n"
     ]
    }
   ],
   "source": []
  }
 ],
 "metadata": {
  "kernelspec": {
   "display_name": "Python 3",
   "language": "python",
   "name": "python3"
  },
  "language_info": {
   "codemirror_mode": {
    "name": "ipython",
    "version": 3
   },
   "file_extension": ".py",
   "mimetype": "text/x-python",
   "name": "python",
   "nbconvert_exporter": "python",
   "pygments_lexer": "ipython3",
   "version": "3.11.9"
  }
 },
 "nbformat": 4,
 "nbformat_minor": 2
}
