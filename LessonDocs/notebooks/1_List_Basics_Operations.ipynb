{
 "cells": [
  {
   "cell_type": "markdown",
   "metadata": {},
   "source": [
    "# Introduction to Lists\n",
    "Explain what lists are, their purpose, and why they are useful in Python."
   ]
  },
  {
   "cell_type": "markdown",
   "metadata": {},
   "source": [
    "When we say that a list is an iterable, it means that a list is an object that can be iterated over, i.e., you can traverse through all the elements in the list one by one. In Python, an iterable is any object that implements the __iter__() method, which returns an iterator, or the __getitem__() method, which enables indexed access to its elements.\n",
    "\n",
    "Here is an example of iterating over a list:\n",
    "\n",
    "In this example, my_list is an iterable, and the for loop iterates over each element in the list, printing them one by one."
   ]
  },
  {
   "cell_type": "code",
   "execution_count": 81,
   "metadata": {},
   "outputs": [
    {
     "name": "stdout",
     "output_type": "stream",
     "text": [
      "1\n",
      "2\n",
      "3\n",
      "4\n",
      "5\n"
     ]
    }
   ],
   "source": [
    "my_list = [1, 2, 3, 4, 5]\n",
    "\n",
    "# Using a for loop to iterate over the list\n",
    "for element in my_list:\n",
    "    print(element)"
   ]
  },
  {
   "cell_type": "markdown",
   "metadata": {},
   "source": [
    "In this example, my_list is an iterable, and the for loop iterates over each element in the list, printing them one by one."
   ]
  },
  {
   "cell_type": "markdown",
   "metadata": {},
   "source": [
    "## List Basics\n",
    "\n",
    "Lists are a versatile data structure in Python that allow you to store collections of items in a single variable.\n",
    "\n",
    "They can hold items of any data type, and the items can be of different types within the same list.\n",
    "\n",
    "Lists are ordered, changeable, and allow duplicate values.\n",
    "\n",
    "\n",
    " Lists are useful for storing collections of items, such as a list of names, numbers, or other objects.\n",
    "\n",
    " They provide a way to group related data together and perform operations on the entire collection.\n",
    "\n"
   ]
  },
  {
   "cell_type": "code",
   "execution_count": 86,
   "metadata": {},
   "outputs": [
    {
     "data": {
      "text/plain": [
       "[1, 2, 3, 4, 5]"
      ]
     },
     "execution_count": 86,
     "metadata": {},
     "output_type": "execute_result"
    }
   ],
   "source": [
    "# Creating a list\n",
    "my_list = [1, 2, 3, 4, 5]\n",
    "\n",
    "# Display the list\n",
    "my_list\n"
   ]
  },
  {
   "cell_type": "code",
   "execution_count": 85,
   "metadata": {},
   "outputs": [
    {
     "data": {
      "text/plain": [
       "[1, 'Hello', 3.14, True]"
      ]
     },
     "execution_count": 85,
     "metadata": {},
     "output_type": "execute_result"
    }
   ],
   "source": [
    "# Lists can also contain different data types\n",
    "mixed_list = [1, \"Hello\", 3.14, True]\n",
    "\n",
    "# Display the mixed list\n",
    "mixed_list"
   ]
  },
  {
   "cell_type": "markdown",
   "metadata": {},
   "source": [
    "# Creating Lists\n",
    "Demonstrate how to create lists using different methods."
   ]
  },
  {
   "cell_type": "code",
   "execution_count": null,
   "metadata": {},
   "outputs": [
    {
     "data": {
      "text/plain": [
       "[0, 2, 3]"
      ]
     },
     "execution_count": 89,
     "metadata": {},
     "output_type": "execute_result"
    }
   ],
   "source": [
    "# Creating an empty list\n",
    "empty_list = []\n",
    "\n",
    "# Display the empty list\n",
    "empty_list"
   ]
  },
  {
   "cell_type": "code",
   "execution_count": 88,
   "metadata": {},
   "outputs": [
    {
     "data": {
      "text/plain": [
       "[1, 2, 3, 4, 5]"
      ]
     },
     "execution_count": 88,
     "metadata": {},
     "output_type": "execute_result"
    }
   ],
   "source": [
    "\n",
    "# Creating a list using the list() constructor\n",
    "constructed_list = list((1, 2, 3, 4, 5))\n",
    "\n",
    "# Display the constructed list\n",
    "constructed_list"
   ]
  },
  {
   "cell_type": "code",
   "execution_count": null,
   "metadata": {},
   "outputs": [
    {
     "data": {
      "text/plain": [
       "[0, 0, 0, 0, 0]"
      ]
     },
     "execution_count": 90,
     "metadata": {},
     "output_type": "execute_result"
    }
   ],
   "source": [
    "# Creating a list with repeated elements\n",
    "repeated_list = [0] * 5\n",
    "\n",
    "# Display the repeated list\n",
    "repeated_list"
   ]
  },
  {
   "cell_type": "code",
   "execution_count": 91,
   "metadata": {},
   "outputs": [
    {
     "data": {
      "text/plain": [
       "[0, 0, 0, 0, 0, 1, 2, 3, 4, 5]"
      ]
     },
     "execution_count": 91,
     "metadata": {},
     "output_type": "execute_result"
    }
   ],
   "source": [
    "repeated_list + [1, 2, 3, 4, 5]"
   ]
  },
  {
   "cell_type": "code",
   "execution_count": 92,
   "metadata": {},
   "outputs": [
    {
     "data": {
      "text/plain": [
       "[0, 1, 2, 3, 4, 5, 6, 7, 8, 9]"
      ]
     },
     "execution_count": 92,
     "metadata": {},
     "output_type": "execute_result"
    }
   ],
   "source": [
    "# Creating a list using list comprehension\n",
    "comprehension_list = [x for x in range(10)]\n",
    "\n",
    "# Display the list created using list comprehension\n",
    "comprehension_list"
   ]
  },
  {
   "cell_type": "markdown",
   "metadata": {},
   "source": [
    "# Accessing List Elements\n",
    "Show how to access individual elements, slices, and use negative indexing."
   ]
  },
  {
   "cell_type": "code",
   "execution_count": 110,
   "metadata": {},
   "outputs": [
    {
     "data": {
      "text/plain": [
       "(1, 3)"
      ]
     },
     "execution_count": 110,
     "metadata": {},
     "output_type": "execute_result"
    }
   ],
   "source": [
    "# Accessing List Elements\n",
    "\n",
    "my_list = [1, 2, 3, 4, 5, 6,7,8,9,10]\n",
    "\n",
    "# Accessing individual elements by index\n",
    "first_element = my_list[0]\n",
    "second_element = my_list[2]\n",
    "\n",
    "# Display the accessed elements\n",
    "first_element, second_element"
   ]
  },
  {
   "cell_type": "code",
   "execution_count": 97,
   "metadata": {},
   "outputs": [
    {
     "data": {
      "text/plain": [
       "(5, 4)"
      ]
     },
     "execution_count": 97,
     "metadata": {},
     "output_type": "execute_result"
    }
   ],
   "source": [
    "# Accessing elements using negative indexing\n",
    "last_element = my_list[-1]\n",
    "second_last_element = my_list[-2]\n",
    "\n",
    "# Display the accessed elements using negative indexing\n",
    "last_element, second_last_element"
   ]
  },
  {
   "cell_type": "code",
   "execution_count": 98,
   "metadata": {},
   "outputs": [
    {
     "data": {
      "text/plain": [
       "[2, 3, 4]"
      ]
     },
     "execution_count": 98,
     "metadata": {},
     "output_type": "execute_result"
    }
   ],
   "source": [
    "# Accessing a slice of the list\n",
    "slice_of_list = my_list[1:4]\n",
    "\n",
    "# Display the slice of the list\n",
    "slice_of_list"
   ]
  },
  {
   "cell_type": "code",
   "execution_count": 99,
   "metadata": {},
   "outputs": [
    {
     "data": {
      "text/plain": [
       "[1, 2, 3, 4, 5]"
      ]
     },
     "execution_count": 99,
     "metadata": {},
     "output_type": "execute_result"
    }
   ],
   "source": [
    "my_list"
   ]
  },
  {
   "cell_type": "code",
   "execution_count": 113,
   "metadata": {},
   "outputs": [
    {
     "data": {
      "text/plain": [
       "[3, 6, 9]"
      ]
     },
     "execution_count": 113,
     "metadata": {},
     "output_type": "execute_result"
    }
   ],
   "source": [
    "# Accessing a slice with a step\n",
    "slice_with_step = my_list[2:9:3]\n",
    "\n",
    "# Display the slice with a step\n",
    "slice_with_step"
   ]
  },
  {
   "cell_type": "markdown",
   "metadata": {},
   "source": [
    "# Modifying Lists\n",
    "Explain how to modify lists by adding, removing, and changing elements."
   ]
  },
  {
   "cell_type": "code",
   "execution_count": 131,
   "metadata": {},
   "outputs": [
    {
     "name": "stdout",
     "output_type": "stream",
     "text": [
      "[1, 2, 3, 4, 5]\n"
     ]
    },
    {
     "data": {
      "text/plain": [
       "[1, 2, 3, 4, 5, 6]"
      ]
     },
     "execution_count": 131,
     "metadata": {},
     "output_type": "execute_result"
    }
   ],
   "source": [
    "# Modifying Lists\n",
    "\n",
    "my_list = [1, 2, 3, 4, 5]\n",
    "\n",
    "\n",
    "print(my_list)\n",
    "\n",
    "# Adding elements to a list using append()\n",
    "my_list.append(6)\n",
    "\n",
    "# Display the list after appending an element\n",
    "my_list"
   ]
  },
  {
   "cell_type": "code",
   "execution_count": 118,
   "metadata": {},
   "outputs": [
    {
     "data": {
      "text/plain": [
       "[1, 2, 3, 4, 5, 6, 6, 6, 6, 6]"
      ]
     },
     "execution_count": 118,
     "metadata": {},
     "output_type": "execute_result"
    }
   ],
   "source": [
    "# Adding elements to a list using append()\n",
    "my_list.append(6)\n",
    "\n",
    "# Display the list after appending an element\n",
    "my_list"
   ]
  },
  {
   "cell_type": "code",
   "execution_count": null,
   "metadata": {},
   "outputs": [
    {
     "data": {
      "text/plain": [
       "[1, 2, 3, 'asdf', 4, 'asdf', 5, 6]"
      ]
     },
     "execution_count": 133,
     "metadata": {},
     "output_type": "execute_result"
    }
   ],
   "source": [
    "\n",
    "# Adding elements to a list using insert()\n",
    "my_list.insert(0, 0)\n",
    "\n",
    "# Display the list after inserting an element\n",
    "my_list"
   ]
  },
  {
   "cell_type": "code",
   "execution_count": 138,
   "metadata": {},
   "outputs": [
    {
     "data": {
      "text/plain": [
       "[1, 2, 3, 'asdf', 4, 'asdf', 5, 6, 7, 8, 9, 7, 8, 9, 7, 8, 9, 7, 8, 9, 7, 8, 9]"
      ]
     },
     "execution_count": 138,
     "metadata": {},
     "output_type": "execute_result"
    }
   ],
   "source": [
    "# Adding multiple elements to a list using extend()\n",
    "my_list.extend([7, 8, 9])\n",
    "\n",
    "# Display the list after extending it\n",
    "my_list"
   ]
  },
  {
   "cell_type": "code",
   "execution_count": null,
   "metadata": {},
   "outputs": [
    {
     "ename": "ValueError",
     "evalue": "list.remove(x): x not in list",
     "output_type": "error",
     "traceback": [
      "\u001b[1;31m---------------------------------------------------------------------------\u001b[0m",
      "\u001b[1;31mValueError\u001b[0m                                Traceback (most recent call last)",
      "Cell \u001b[1;32mIn[142], line 2\u001b[0m\n\u001b[0;32m      1\u001b[0m \u001b[38;5;66;03m# Removing elements from a list using remove()\u001b[39;00m\n\u001b[1;32m----> 2\u001b[0m \u001b[43mmy_list\u001b[49m\u001b[38;5;241;43m.\u001b[39;49m\u001b[43mremove\u001b[49m\u001b[43m(\u001b[49m\u001b[38;5;124;43m'\u001b[39;49m\u001b[38;5;124;43masdf\u001b[39;49m\u001b[38;5;124;43m'\u001b[39;49m\u001b[43m)\u001b[49m\n\u001b[0;32m      4\u001b[0m \u001b[38;5;66;03m# Display the list after removing an element\u001b[39;00m\n\u001b[0;32m      5\u001b[0m my_list\n",
      "\u001b[1;31mValueError\u001b[0m: list.remove(x): x not in list"
     ]
    }
   ],
   "source": [
    "# Removing elements from a list using remove()\n",
    "my_list.remove(0)\n",
    "\n",
    "# Display the list after removing an element\n",
    "my_list"
   ]
  },
  {
   "cell_type": "code",
   "execution_count": null,
   "metadata": {},
   "outputs": [],
   "source": [
    "# Removing elements from a list using remove()\n",
    "my_list.remove(1)\n",
    "\n",
    "# Display the list after removing an element\n",
    "my_list"
   ]
  },
  {
   "cell_type": "code",
   "execution_count": null,
   "metadata": {},
   "outputs": [],
   "source": [
    "# Removing elements from a list using pop()\n",
    "popped_element = my_list.pop()\n",
    "\n",
    "# Display the list after popping an element\n",
    "my_list\n",
    "\n",
    "# Display the popped element\n",
    "popped_element\n"
   ]
  },
  {
   "cell_type": "code",
   "execution_count": null,
   "metadata": {},
   "outputs": [],
   "source": [
    "# Removing elements from a list using del\n",
    "del my_list[0]\n",
    "\n",
    "# Display the list after deleting an element\n",
    "my_list\n"
   ]
  },
  {
   "cell_type": "code",
   "execution_count": null,
   "metadata": {},
   "outputs": [],
   "source": [
    "# Changing elements in a list by index\n",
    "my_list[0] = 10\n",
    "\n",
    "# Display the list after changing an element\n",
    "my_list"
   ]
  },
  {
   "cell_type": "code",
   "execution_count": null,
   "metadata": {},
   "outputs": [],
   "source": [
    "# Changing multiple elements in a list using slicing\n",
    "my_list[1:3] = [20, 30]\n",
    "\n",
    "# Display the list after changing multiple elements\n",
    "my_list"
   ]
  },
  {
   "cell_type": "markdown",
   "metadata": {},
   "source": [
    "# List Operations\n",
    "Demonstrate common list operations such as concatenation, repetition, and membership testing."
   ]
  },
  {
   "cell_type": "code",
   "execution_count": null,
   "metadata": {},
   "outputs": [],
   "source": [
    "# List Operations\n",
    "\n",
    "# Concatenation of lists\n",
    "list1 = [1, 2, 3]\n",
    "list2 = [4, 5, 6]\n",
    "concatenated_list = list1 + list2\n",
    "\n",
    "# Display the concatenated list\n",
    "concatenated_list\n",
    "\n",
    "# Repetition of lists\n",
    "repeated_list = list1 * 3\n",
    "\n",
    "# Display the repeated list\n",
    "repeated_list\n",
    "\n",
    "# Membership testing in lists\n",
    "is_in_list = 2 in list1\n",
    "is_not_in_list = 7 not in list1\n",
    "\n",
    "# Display the results of membership testing\n",
    "is_in_list, is_not_in_list"
   ]
  },
  {
   "cell_type": "markdown",
   "metadata": {},
   "source": [
    "# List Methods\n",
    "Show how to use various list methods like append(), extend(), insert(), remove(), pop(), and sort()."
   ]
  },
  {
   "cell_type": "code",
   "execution_count": null,
   "metadata": {},
   "outputs": [],
   "source": [
    "# List Methods\n",
    "\n",
    "# Using append() to add an element to the end of the list\n",
    "my_list.append(40)\n",
    "\n",
    "# Display the list after appending an element\n",
    "my_list"
   ]
  },
  {
   "cell_type": "code",
   "execution_count": null,
   "metadata": {},
   "outputs": [],
   "source": [
    "# Using extend() to add multiple elements to the end of the list\n",
    "my_list.extend([50, 60, 70])\n",
    "\n",
    "# Display the list after extending it\n",
    "my_list\n"
   ]
  },
  {
   "cell_type": "code",
   "execution_count": null,
   "metadata": {},
   "outputs": [],
   "source": [
    "\n",
    "# Using insert() to add an element at a specific position\n",
    "my_list.insert(2, 25)\n",
    "\n",
    "# Display the list after inserting an element\n",
    "my_list"
   ]
  },
  {
   "cell_type": "code",
   "execution_count": null,
   "metadata": {},
   "outputs": [],
   "source": [
    "# Using remove() to remove the first occurrence of an element\n",
    "my_list.remove(25)\n",
    "\n",
    "# Display the list after removing an element\n",
    "my_list"
   ]
  },
  {
   "cell_type": "code",
   "execution_count": null,
   "metadata": {},
   "outputs": [],
   "source": [
    "\n",
    "# Using pop() to remove and return the last element\n",
    "popped_element = my_list.pop()\n",
    "\n",
    "# Display the list after popping an element\n",
    "my_list\n"
   ]
  },
  {
   "cell_type": "code",
   "execution_count": null,
   "metadata": {},
   "outputs": [],
   "source": [
    "# Display the popped element\n",
    "popped_element\n",
    "\n",
    "# Using sort() to sort the list in ascending order\n",
    "my_list.sort()"
   ]
  },
  {
   "cell_type": "code",
   "execution_count": null,
   "metadata": {},
   "outputs": [],
   "source": [
    "# Display the list after sorting\n",
    "my_list\n",
    "\n",
    "# Using sort() with reverse=True to sort the list in descending order\n",
    "my_list.sort(reverse=True)\n",
    "\n",
    "# Display the list after sorting in descending order\n",
    "my_list\n",
    "\n"
   ]
  },
  {
   "cell_type": "code",
   "execution_count": null,
   "metadata": {},
   "outputs": [],
   "source": [
    "my_list.reverse()\n",
    "# Display the list after sorting in descending order\n",
    "my_list"
   ]
  },
  {
   "cell_type": "code",
   "execution_count": null,
   "metadata": {},
   "outputs": [],
   "source": [
    "my_list2 = my_list.copy()\n",
    "# Display the list after sorting in descending order\n",
    "my_list2"
   ]
  },
  {
   "cell_type": "markdown",
   "metadata": {},
   "source": [
    "## Copying and assinging lists\n",
    "\n",
    "Copying a list will create a new list that functions indpendently from its source, but assignment (=) create a reference to that list.  Both variables refer to that same list in this case."
   ]
  },
  {
   "cell_type": "code",
   "execution_count": null,
   "metadata": {},
   "outputs": [],
   "source": [
    "my_list2.append(\"Howdy!\")\n"
   ]
  },
  {
   "cell_type": "code",
   "execution_count": null,
   "metadata": {},
   "outputs": [],
   "source": [
    "my_list2"
   ]
  },
  {
   "cell_type": "code",
   "execution_count": null,
   "metadata": {},
   "outputs": [],
   "source": [
    "my_list"
   ]
  },
  {
   "cell_type": "code",
   "execution_count": null,
   "metadata": {},
   "outputs": [],
   "source": [
    "my_list_NotCopy = my_list\n",
    "my_list_NotCopy.append(\"Should I be there?\")\n",
    "my_list_NotCopy\n"
   ]
  },
  {
   "cell_type": "code",
   "execution_count": null,
   "metadata": {},
   "outputs": [],
   "source": [
    "my_list"
   ]
  },
  {
   "cell_type": "code",
   "execution_count": null,
   "metadata": {},
   "outputs": [],
   "source": [
    "print(my_list_NotCopy)\n",
    "\n",
    "my_list_NotCopy.clear()\n",
    "# Display the list after sorting in descending order\n",
    "print(my_list_NotCopy)"
   ]
  },
  {
   "cell_type": "markdown",
   "metadata": {},
   "source": [
    "## Using Lists as Stacks\n",
    "\n",
    "The list methods make it very easy to use a list as a stack, where the last element added is the first element retrieved (“last-in, first-out”). To add an item to the top of the stack, use append(). To retrieve an item from the top of the stack, use pop() without an explicit index. For example:"
   ]
  },
  {
   "cell_type": "code",
   "execution_count": null,
   "metadata": {},
   "outputs": [],
   "source": [
    "stack = [3, 4, 5]\n",
    "stack.append(6)\n",
    "stack.append(7)\n",
    "stack\n"
   ]
  },
  {
   "cell_type": "code",
   "execution_count": null,
   "metadata": {},
   "outputs": [],
   "source": [
    "stack.pop()\n",
    "stack\n"
   ]
  },
  {
   "cell_type": "code",
   "execution_count": null,
   "metadata": {},
   "outputs": [],
   "source": [
    "poppedVal = stack.pop()\n",
    "print(stack, poppedVal)"
   ]
  },
  {
   "cell_type": "code",
   "execution_count": null,
   "metadata": {},
   "outputs": [],
   "source": [
    "stack.pop()\n",
    "stack"
   ]
  },
  {
   "cell_type": "markdown",
   "metadata": {},
   "source": [
    "Using Lists as Queues\n",
    "It is also possible to use a list as a queue, where the first element added is the first element retrieved (“first-in, first-out”); however, lists are not efficient for this purpose. While appends and pops from the end of list are fast, doing inserts or pops from the beginning of a list is slow (because all of the other elements have to be shifted by one).\n",
    "\n",
    "To implement a queue, use collections.deque which was designed to have fast appends and pops from both ends. For example:\n",
    "\n"
   ]
  },
  {
   "cell_type": "code",
   "execution_count": null,
   "metadata": {},
   "outputs": [],
   "source": [
    "from collections import deque\n",
    "\n",
    "queue = deque([\"Eric\", \"John\", \"Michael\"])\n",
    "queue.append(\"Terry\")           # Terry arrives\n",
    "queue.append(\"Graham\")          # Graham arrives\n",
    "\n",
    "queue"
   ]
  },
  {
   "cell_type": "code",
   "execution_count": null,
   "metadata": {},
   "outputs": [],
   "source": [
    "queue.popleft()                 # The first to arrive now leaves"
   ]
  },
  {
   "cell_type": "code",
   "execution_count": null,
   "metadata": {},
   "outputs": [],
   "source": [
    "queue.popleft()                 # The second to arrive now leaves"
   ]
  },
  {
   "cell_type": "code",
   "execution_count": null,
   "metadata": {},
   "outputs": [],
   "source": [
    "queue                           # Remaining queue in order of arrival"
   ]
  },
  {
   "cell_type": "code",
   "execution_count": null,
   "metadata": {},
   "outputs": [],
   "source": [
    "deque(['Michael', 'Terry', 'Graham'])"
   ]
  },
  {
   "cell_type": "markdown",
   "metadata": {},
   "source": [
    "# List Comprehensions\n",
    "Introduce list comprehensions and provide examples of their usage."
   ]
  },
  {
   "cell_type": "code",
   "execution_count": null,
   "metadata": {},
   "outputs": [],
   "source": [
    "# List Comprehensions\n",
    "\n",
    "# List comprehensions provide a concise way to create lists.\n",
    "# They consist of brackets containing an expression followed by a for clause, then zero or more for or if clauses.\n",
    "# The expressions can be anything, meaning you can put in all kinds of objects in lists.\n",
    "\n",
    "# Example: Creating a list of squares using list comprehension\n",
    "squares = [x**2 for x in range(10)]\n",
    "\n",
    "# Display the list of squares\n",
    "squares\n",
    "\n",
    "# Example: Creating a list of even numbers using list comprehension\n",
    "evens = [x for x in range(20) if x % 2 == 0]\n",
    "\n",
    "# Display the list of even numbers\n",
    "evens\n",
    "\n",
    "# Example: Creating a list of tuples (number, square) using list comprehension\n",
    "number_square_tuples = [(x, x**2) for x in range(10)]\n",
    "\n",
    "# Display the list of tuples\n",
    "number_square_tuples\n",
    "\n",
    "# Example: Flattening a list of lists using list comprehension\n",
    "list_of_lists = [[1, 2, 3], [4, 5, 6], [7, 8, 9]]\n",
    "flattened_list = [item for sublist in list_of_lists for item in sublist]\n",
    "\n",
    "# Display the flattened list\n",
    "flattened_list"
   ]
  },
  {
   "cell_type": "markdown",
   "metadata": {},
   "source": [
    "# Common List Patterns\n",
    "Discuss common patterns and idioms for working with lists, such as filtering, mapping, and reducing."
   ]
  },
  {
   "cell_type": "code",
   "execution_count": null,
   "metadata": {},
   "outputs": [],
   "source": [
    "# Common List Patterns\n",
    "\n",
    "# Filtering a list to include only even numbers\n",
    "filtered_list = [x for x in my_list if x % 2 == 0]\n",
    "\n",
    "# Display the filtered list\n",
    "filtered_list\n",
    "\n",
    "# Mapping a list to create a new list of squares\n",
    "mapped_list = [x**2 for x in my_list]\n",
    "\n",
    "# Display the mapped list\n",
    "mapped_list\n",
    "\n",
    "# Reducing a list to the sum of its elements using a loop\n",
    "sum_of_elements = 0\n",
    "for x in my_list:\n",
    "    sum_of_elements += x\n",
    "\n",
    "# Display the sum of elements\n",
    "sum_of_elements\n",
    "\n",
    "# Reducing a list to the sum of its elements using the sum() function\n",
    "sum_of_elements_function = sum(my_list)\n",
    "\n",
    "# Display the sum of elements using the sum() function\n",
    "sum_of_elements_function\n",
    "\n",
    "# Filtering a list to include only elements greater than a certain value\n",
    "filtered_greater_than_20 = [x for x in my_list if x > 20]\n",
    "\n",
    "# Display the filtered list with elements greater than 20\n",
    "filtered_greater_than_20\n",
    "\n",
    "# Mapping a list to create a new list of strings\n",
    "mapped_to_strings = [f\"Number: {x}\" for x in my_list]\n",
    "\n",
    "# Display the mapped list of strings\n",
    "mapped_to_strings"
   ]
  }
 ],
 "metadata": {
  "kernelspec": {
   "display_name": "Python 3",
   "language": "python",
   "name": "python3"
  },
  "language_info": {
   "codemirror_mode": {
    "name": "ipython",
    "version": 3
   },
   "file_extension": ".py",
   "mimetype": "text/x-python",
   "name": "python",
   "nbconvert_exporter": "python",
   "pygments_lexer": "ipython3",
   "version": "3.11.9"
  }
 },
 "nbformat": 4,
 "nbformat_minor": 2
}
